{
 "cells": [
  {
   "cell_type": "markdown",
   "metadata": {},
   "source": [
    "# 1. Import all requiried libraries"
   ]
  },
  {
   "cell_type": "code",
   "execution_count": 2,
   "metadata": {},
   "outputs": [],
   "source": [
    "import os"
   ]
  },
  {
   "cell_type": "code",
   "execution_count": 3,
   "metadata": {},
   "outputs": [],
   "source": [
    "import nltk.classify.util\n",
    "from nltk.classify import NaiveBayesClassifier\n",
    "from nltk.tokenize import word_tokenize"
   ]
  },
  {
   "cell_type": "code",
   "execution_count": 4,
   "metadata": {},
   "outputs": [],
   "source": [
    "import random"
   ]
  },
  {
   "cell_type": "markdown",
   "metadata": {},
   "source": [
    "# 2. Create a variable to access all Directories, Sub-directories and Files"
   ]
  },
  {
   "cell_type": "code",
   "execution_count": 5,
   "metadata": {},
   "outputs": [],
   "source": [
    "dataDir = '/home/wtf_minseok/Desktop/enron'"
   ]
  },
  {
   "cell_type": "markdown",
   "metadata": {},
   "source": [
    "# 3. Access Spam and Ham directories"
   ]
  },
  {
   "cell_type": "code",
   "execution_count": 6,
   "metadata": {},
   "outputs": [
    {
     "name": "stdout",
     "output_type": "stream",
     "text": [
      "/home/wtf_minseok/Desktop/enron ['enron4', 'enron2', 'enron1', 'enron3', 'enron6', 'enron5'] 0\n",
      "/home/wtf_minseok/Desktop/enron/enron4 ['ham', 'spam'] 1\n",
      "/home/wtf_minseok/Desktop/enron/enron4/ham [] 1500\n",
      "/home/wtf_minseok/Desktop/enron/enron4/spam [] 4500\n",
      "/home/wtf_minseok/Desktop/enron/enron2 ['ham', 'spam'] 1\n",
      "/home/wtf_minseok/Desktop/enron/enron2/ham [] 4361\n",
      "/home/wtf_minseok/Desktop/enron/enron2/spam [] 1496\n",
      "/home/wtf_minseok/Desktop/enron/enron1 ['ham', 'spam'] 1\n",
      "/home/wtf_minseok/Desktop/enron/enron1/ham [] 3672\n",
      "/home/wtf_minseok/Desktop/enron/enron1/spam [] 1500\n",
      "/home/wtf_minseok/Desktop/enron/enron3 ['ham', 'spam'] 1\n",
      "/home/wtf_minseok/Desktop/enron/enron3/ham [] 4012\n",
      "/home/wtf_minseok/Desktop/enron/enron3/spam [] 1500\n",
      "/home/wtf_minseok/Desktop/enron/enron6 ['ham', 'spam'] 1\n",
      "/home/wtf_minseok/Desktop/enron/enron6/ham [] 1500\n",
      "/home/wtf_minseok/Desktop/enron/enron6/spam [] 4500\n",
      "/home/wtf_minseok/Desktop/enron/enron5 ['ham', 'spam'] 1\n",
      "/home/wtf_minseok/Desktop/enron/enron5/ham [] 1500\n",
      "/home/wtf_minseok/Desktop/enron/enron5/spam [] 3675\n"
     ]
    }
   ],
   "source": [
    "for directories, subdirs, files in os.walk(dataDir):\n",
    "    print(directories, subdirs, len(files))"
   ]
  },
  {
   "cell_type": "code",
   "execution_count": 7,
   "metadata": {},
   "outputs": [
    {
     "name": "stdout",
     "output_type": "stream",
     "text": [
      "/home/wtf_minseok/Desktop/enron/enron4/ham [] 1500\n",
      "/home/wtf_minseok/Desktop/enron/enron4/spam [] 4500\n",
      "/home/wtf_minseok/Desktop/enron/enron2/ham [] 4361\n",
      "/home/wtf_minseok/Desktop/enron/enron2/spam [] 1496\n",
      "/home/wtf_minseok/Desktop/enron/enron1/ham [] 3672\n",
      "/home/wtf_minseok/Desktop/enron/enron1/spam [] 1500\n",
      "/home/wtf_minseok/Desktop/enron/enron3/ham [] 4012\n",
      "/home/wtf_minseok/Desktop/enron/enron3/spam [] 1500\n",
      "/home/wtf_minseok/Desktop/enron/enron6/ham [] 1500\n",
      "/home/wtf_minseok/Desktop/enron/enron6/spam [] 4500\n",
      "/home/wtf_minseok/Desktop/enron/enron5/ham [] 1500\n",
      "/home/wtf_minseok/Desktop/enron/enron5/spam [] 3675\n"
     ]
    }
   ],
   "source": [
    "for directories, subdirs, files in os.walk(dataDir):\n",
    "    if (os.path.split(directories)[1]  == 'ham'):\n",
    "        print(directories, subdirs, len(files))\n",
    "    \n",
    "    if (os.path.split(directories)[1]  == 'spam'):\n",
    "        print(directories, subdirs, len(files))"
   ]
  },
  {
   "cell_type": "code",
   "execution_count": 9,
   "metadata": {},
   "outputs": [
    {
     "name": "stdout",
     "output_type": "stream",
     "text": [
      "({'Subject': True, ':': True, 'beep': True, 'normal': True, '(': True, 'unsplit': True, ')': True, 'internal': True, 'path': True, 'flows': True, 'are': True, 'now': True, 'below': True, 'limits': True, '.': True, 'has': True, 'been': True, 'returned': True, 'to': True, 'mode': True, 'operation': True, 'as': True, 'of': True, '1700': True, 'hours': True, 'will': True, 'dispatch': True, 'one': True, 'zone': True, 'sent': True, 'by': True, 'market': True, 'operations': True, ',': True, 'inquiries': True, 'please': True, 'call': True, 'the': True, 'real': True, 'time': True, 'desk': True, 'guy': True, 'ridgely': True, '>': True, 'grid': True, 'resource': True, 'coordinator': True}, 'ham')\n",
      "({'Subject': True, ':': True, 'unique': True, '-': True, 'logos': True, '!': True, '(': True, '328826018': True, ')': True, 'our': True, 'art': True, 'team': True, 'creates': True, 'a': True, 'custom': True, 'logo': True, 'for': True, 'you': True, ',': True, 'based': True, 'on': True, 'your': True, 'needs': True, '.': True, 'years': True, 'of': True, 'experience': True, 'have': True, 'taught': True, 'us': True, 'how': True, 'to': True, 'create': True, 'that': True, 'makes': True, 'statement': True, 'is': True, 'in': True, 'professional': True, 'manner': True, 'we': True, 'learn': True, 'about': True, 'image': True, 'and': True, 'would': True, 'like': True, 'the': True, 'world': True, 'perceive': True, 'company': True, 'with': True, 'this': True, 'info': True, 'rmation': True, 'then': True, 'not': True, 'only': True, 'but': True, 'reflects': True, 'purpose': True, 'value': True, 'take': True, 'few': True, 'minutes': True, 'visit': True, 'trylogos': True, 'http': True, '/': True, 'www': True, 'inc': True, 'com': True, 'sin': True, 'cerely': True, 'design': True}, 'spam')\n"
     ]
    }
   ],
   "source": [
    "ham_list = []\n",
    "spam_list = []\n",
    "\n",
    "for directories, subdirs, files in os.walk(dataDir):\n",
    "    if (os.path.split(directories)[1]  == 'ham'):\n",
    "        for filename in files:      \n",
    "            with open(os.path.join(directories, filename), encoding=\"latin-1\") as f:\n",
    "                data = f.read()\n",
    "                words = word_tokenize(data)\n",
    "                ham_list.append((create_word_features(words), \"ham\"))\n",
    "    \n",
    "    if (os.path.split(directories)[1]  == 'spam'):\n",
    "        for filename in files:\n",
    "            with open(os.path.join(directories, filename), encoding=\"latin-1\") as f:\n",
    "                data = f.read()\n",
    "                words = word_tokenize(data)\n",
    "                spam_list.append((create_word_features(words), \"spam\"))\n",
    "print(ham_list[0])\n",
    "print(spam_list[0])"
   ]
  },
  {
   "cell_type": "markdown",
   "metadata": {},
   "source": [
    "# 4. Prepare Data for Naive Bayes Filter and create Training and Testing Data"
   ]
  },
  {
   "cell_type": "code",
   "execution_count": 8,
   "metadata": {},
   "outputs": [
    {
     "data": {
      "text/plain": [
       "{'the': True, 'quick': True, 'brown': True, 'a': True, 'fox': True}"
      ]
     },
     "execution_count": 8,
     "metadata": {},
     "output_type": "execute_result"
    }
   ],
   "source": [
    "def create_word_features(words):\n",
    "    my_dict = dict( [ (word, True) for word in words] )\n",
    "    return my_dict\n",
    " \n",
    "create_word_features([\"the\", \"quick\", \"brown\", \"quick\", \"a\", \"fox\"])"
   ]
  },
  {
   "cell_type": "code",
   "execution_count": 10,
   "metadata": {},
   "outputs": [],
   "source": [
    "combined_list = ham_list + spam_list \n",
    "random.shuffle(combined_list)"
   ]
  },
  {
   "cell_type": "code",
   "execution_count": 11,
   "metadata": {},
   "outputs": [
    {
     "name": "stdout",
     "output_type": "stream",
     "text": [
      "33716\n",
      "23601\n",
      "10115\n"
     ]
    }
   ],
   "source": [
    "training_part = int(len(combined_list) * .7)\n",
    "print(len(combined_list))\n",
    " \n",
    "training_set = combined_list[:training_part]\n",
    "test_set =  combined_list[training_part:]\n",
    " \n",
    "print(len(training_set))\n",
    "print(len(test_set))"
   ]
  },
  {
   "cell_type": "markdown",
   "metadata": {},
   "source": [
    "# 5. Create the Naive Bayes Filter and find its Accuracy"
   ]
  },
  {
   "cell_type": "code",
   "execution_count": 12,
   "metadata": {},
   "outputs": [
    {
     "name": "stdout",
     "output_type": "stream",
     "text": [
      "Accuracy is:  98.47750865051903\n"
     ]
    }
   ],
   "source": [
    "# Create the Naive Bayes filter\n",
    "classifier = NaiveBayesClassifier.train(training_set)\n",
    " \n",
    "# Find the accuracy, using the test data\n",
    "accuracy = nltk.classify.util.accuracy(classifier, test_set)\n",
    " \n",
    "print(\"Accuracy is: \", accuracy * 100)"
   ]
  },
  {
   "cell_type": "markdown",
   "metadata": {},
   "source": [
    "# 6. Test Messages against the Classifier"
   ]
  },
  {
   "cell_type": "code",
   "execution_count": 13,
   "metadata": {},
   "outputs": [],
   "source": [
    "def spamOrHam(msg):\n",
    "    words = word_tokenize(msg)\n",
    "    features = create_word_features(words)\n",
    "    print(\"This message is :\", classifier.classify(features))    "
   ]
  },
  {
   "cell_type": "code",
   "execution_count": 29,
   "metadata": {},
   "outputs": [
    {
     "name": "stdout",
     "output_type": "stream",
     "text": [
      "Enter any random message to find out whether it is spam or not! \n",
      "Your August credit score is here! Click HERE to find out your credit score for this month!!! Contact 9872635212 for more information.\n",
      "This message is : spam\n"
     ]
    }
   ],
   "source": [
    "message = input(\"Enter any random message to find out whether it is spam or not! \\n\")\n",
    "spamOrHam(message)"
   ]
  }
 ],
 "metadata": {
  "kernelspec": {
   "display_name": "Python 3",
   "language": "python",
   "name": "python3"
  },
  "language_info": {
   "codemirror_mode": {
    "name": "ipython",
    "version": 3
   },
   "file_extension": ".py",
   "mimetype": "text/x-python",
   "name": "python",
   "nbconvert_exporter": "python",
   "pygments_lexer": "ipython3",
   "version": "3.7.3"
  }
 },
 "nbformat": 4,
 "nbformat_minor": 2
}
